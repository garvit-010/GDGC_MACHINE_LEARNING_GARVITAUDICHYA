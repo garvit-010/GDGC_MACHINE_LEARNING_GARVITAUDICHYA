{
 "cells": [
  {
   "cell_type": "code",
   "execution_count": 67,
   "metadata": {},
   "outputs": [],
   "source": [
    "import pandas as pd\n",
    "import numpy as np\n",
    "import seaborn as sns\n",
    "import matplotlib.pyplot as plt"
   ]
  },
  {
   "cell_type": "code",
   "execution_count": 68,
   "metadata": {},
   "outputs": [],
   "source": [
    "data = pd.read_csv(\"outbreaks.csv\")"
   ]
  },
  {
   "cell_type": "code",
   "execution_count": 69,
   "metadata": {},
   "outputs": [
    {
     "data": {
      "text/html": [
       "<div>\n",
       "<style scoped>\n",
       "    .dataframe tbody tr th:only-of-type {\n",
       "        vertical-align: middle;\n",
       "    }\n",
       "\n",
       "    .dataframe tbody tr th {\n",
       "        vertical-align: top;\n",
       "    }\n",
       "\n",
       "    .dataframe thead th {\n",
       "        text-align: right;\n",
       "    }\n",
       "</style>\n",
       "<table border=\"1\" class=\"dataframe\">\n",
       "  <thead>\n",
       "    <tr style=\"text-align: right;\">\n",
       "      <th></th>\n",
       "      <th>Year</th>\n",
       "      <th>Month</th>\n",
       "      <th>State</th>\n",
       "      <th>Location</th>\n",
       "      <th>Food</th>\n",
       "      <th>Ingredient</th>\n",
       "      <th>Species</th>\n",
       "      <th>Serotype/Genotype</th>\n",
       "      <th>Status</th>\n",
       "      <th>Illnesses</th>\n",
       "      <th>Hospitalizations</th>\n",
       "      <th>Fatalities</th>\n",
       "    </tr>\n",
       "  </thead>\n",
       "  <tbody>\n",
       "    <tr>\n",
       "      <th>0</th>\n",
       "      <td>1998</td>\n",
       "      <td>January</td>\n",
       "      <td>California</td>\n",
       "      <td>Restaurant</td>\n",
       "      <td>NaN</td>\n",
       "      <td>NaN</td>\n",
       "      <td>NaN</td>\n",
       "      <td>NaN</td>\n",
       "      <td>NaN</td>\n",
       "      <td>20</td>\n",
       "      <td>0.0</td>\n",
       "      <td>0.0</td>\n",
       "    </tr>\n",
       "    <tr>\n",
       "      <th>1</th>\n",
       "      <td>1998</td>\n",
       "      <td>January</td>\n",
       "      <td>California</td>\n",
       "      <td>NaN</td>\n",
       "      <td>Custard</td>\n",
       "      <td>NaN</td>\n",
       "      <td>NaN</td>\n",
       "      <td>NaN</td>\n",
       "      <td>NaN</td>\n",
       "      <td>112</td>\n",
       "      <td>0.0</td>\n",
       "      <td>0.0</td>\n",
       "    </tr>\n",
       "    <tr>\n",
       "      <th>2</th>\n",
       "      <td>1998</td>\n",
       "      <td>January</td>\n",
       "      <td>California</td>\n",
       "      <td>Restaurant</td>\n",
       "      <td>NaN</td>\n",
       "      <td>NaN</td>\n",
       "      <td>NaN</td>\n",
       "      <td>NaN</td>\n",
       "      <td>NaN</td>\n",
       "      <td>35</td>\n",
       "      <td>0.0</td>\n",
       "      <td>0.0</td>\n",
       "    </tr>\n",
       "    <tr>\n",
       "      <th>3</th>\n",
       "      <td>1998</td>\n",
       "      <td>January</td>\n",
       "      <td>California</td>\n",
       "      <td>Restaurant</td>\n",
       "      <td>Fish, Ahi</td>\n",
       "      <td>NaN</td>\n",
       "      <td>Scombroid toxin</td>\n",
       "      <td>NaN</td>\n",
       "      <td>Confirmed</td>\n",
       "      <td>4</td>\n",
       "      <td>0.0</td>\n",
       "      <td>0.0</td>\n",
       "    </tr>\n",
       "    <tr>\n",
       "      <th>4</th>\n",
       "      <td>1998</td>\n",
       "      <td>January</td>\n",
       "      <td>California</td>\n",
       "      <td>Private Home/Residence</td>\n",
       "      <td>Lasagna, Unspecified; Eggs, Other</td>\n",
       "      <td>NaN</td>\n",
       "      <td>Salmonella enterica</td>\n",
       "      <td>Enteritidis</td>\n",
       "      <td>Confirmed</td>\n",
       "      <td>26</td>\n",
       "      <td>3.0</td>\n",
       "      <td>0.0</td>\n",
       "    </tr>\n",
       "  </tbody>\n",
       "</table>\n",
       "</div>"
      ],
      "text/plain": [
       "   Year    Month       State                Location  \\\n",
       "0  1998  January  California              Restaurant   \n",
       "1  1998  January  California                     NaN   \n",
       "2  1998  January  California              Restaurant   \n",
       "3  1998  January  California              Restaurant   \n",
       "4  1998  January  California  Private Home/Residence   \n",
       "\n",
       "                                Food Ingredient              Species  \\\n",
       "0                                NaN        NaN                  NaN   \n",
       "1                            Custard        NaN                  NaN   \n",
       "2                                NaN        NaN                  NaN   \n",
       "3                          Fish, Ahi        NaN      Scombroid toxin   \n",
       "4  Lasagna, Unspecified; Eggs, Other        NaN  Salmonella enterica   \n",
       "\n",
       "  Serotype/Genotype     Status  Illnesses  Hospitalizations  Fatalities  \n",
       "0               NaN        NaN         20               0.0         0.0  \n",
       "1               NaN        NaN        112               0.0         0.0  \n",
       "2               NaN        NaN         35               0.0         0.0  \n",
       "3               NaN  Confirmed          4               0.0         0.0  \n",
       "4       Enteritidis  Confirmed         26               3.0         0.0  "
      ]
     },
     "execution_count": 69,
     "metadata": {},
     "output_type": "execute_result"
    }
   ],
   "source": [
    "data.head()"
   ]
  },
  {
   "cell_type": "code",
   "execution_count": 70,
   "metadata": {},
   "outputs": [
    {
     "name": "stdout",
     "output_type": "stream",
     "text": [
      "<class 'pandas.core.frame.DataFrame'>\n",
      "RangeIndex: 19119 entries, 0 to 19118\n",
      "Data columns (total 12 columns):\n",
      " #   Column             Non-Null Count  Dtype  \n",
      "---  ------             --------------  -----  \n",
      " 0   Year               19119 non-null  int64  \n",
      " 1   Month              19119 non-null  object \n",
      " 2   State              19119 non-null  object \n",
      " 3   Location           16953 non-null  object \n",
      " 4   Food               10156 non-null  object \n",
      " 5   Ingredient         1876 non-null   object \n",
      " 6   Species            12500 non-null  object \n",
      " 7   Serotype/Genotype  3907 non-null   object \n",
      " 8   Status             12500 non-null  object \n",
      " 9   Illnesses          19119 non-null  int64  \n",
      " 10  Hospitalizations   15494 non-null  float64\n",
      " 11  Fatalities         15518 non-null  float64\n",
      "dtypes: float64(2), int64(2), object(8)\n",
      "memory usage: 1.8+ MB\n"
     ]
    }
   ],
   "source": [
    "data.info()"
   ]
  },
  {
   "cell_type": "code",
   "execution_count": 71,
   "metadata": {},
   "outputs": [
    {
     "data": {
      "text/plain": [
       "Year                     0\n",
       "Month                    0\n",
       "State                    0\n",
       "Location              2166\n",
       "Food                  8963\n",
       "Ingredient           17243\n",
       "Species               6619\n",
       "Serotype/Genotype    15212\n",
       "Status                6619\n",
       "Illnesses                0\n",
       "Hospitalizations      3625\n",
       "Fatalities            3601\n",
       "dtype: int64"
      ]
     },
     "execution_count": 71,
     "metadata": {},
     "output_type": "execute_result"
    }
   ],
   "source": [
    "data.isna().sum()"
   ]
  },
  {
   "cell_type": "code",
   "execution_count": 72,
   "metadata": {},
   "outputs": [],
   "source": [
    "# Irrelevant Columns Drop"
   ]
  },
  {
   "cell_type": "code",
   "execution_count": 73,
   "metadata": {},
   "outputs": [],
   "source": [
    "data = data.drop([\"Month\", \"Ingredient\", \"Food\", \"Serotype/Genotype\", \"Status\"],axis=1)"
   ]
  },
  {
   "cell_type": "code",
   "execution_count": 74,
   "metadata": {},
   "outputs": [
    {
     "data": {
      "text/html": [
       "<div>\n",
       "<style scoped>\n",
       "    .dataframe tbody tr th:only-of-type {\n",
       "        vertical-align: middle;\n",
       "    }\n",
       "\n",
       "    .dataframe tbody tr th {\n",
       "        vertical-align: top;\n",
       "    }\n",
       "\n",
       "    .dataframe thead th {\n",
       "        text-align: right;\n",
       "    }\n",
       "</style>\n",
       "<table border=\"1\" class=\"dataframe\">\n",
       "  <thead>\n",
       "    <tr style=\"text-align: right;\">\n",
       "      <th></th>\n",
       "      <th>Year</th>\n",
       "      <th>State</th>\n",
       "      <th>Location</th>\n",
       "      <th>Species</th>\n",
       "      <th>Illnesses</th>\n",
       "      <th>Hospitalizations</th>\n",
       "      <th>Fatalities</th>\n",
       "    </tr>\n",
       "  </thead>\n",
       "  <tbody>\n",
       "    <tr>\n",
       "      <th>0</th>\n",
       "      <td>1998</td>\n",
       "      <td>California</td>\n",
       "      <td>Restaurant</td>\n",
       "      <td>NaN</td>\n",
       "      <td>20</td>\n",
       "      <td>0.0</td>\n",
       "      <td>0.0</td>\n",
       "    </tr>\n",
       "    <tr>\n",
       "      <th>1</th>\n",
       "      <td>1998</td>\n",
       "      <td>California</td>\n",
       "      <td>NaN</td>\n",
       "      <td>NaN</td>\n",
       "      <td>112</td>\n",
       "      <td>0.0</td>\n",
       "      <td>0.0</td>\n",
       "    </tr>\n",
       "    <tr>\n",
       "      <th>2</th>\n",
       "      <td>1998</td>\n",
       "      <td>California</td>\n",
       "      <td>Restaurant</td>\n",
       "      <td>NaN</td>\n",
       "      <td>35</td>\n",
       "      <td>0.0</td>\n",
       "      <td>0.0</td>\n",
       "    </tr>\n",
       "    <tr>\n",
       "      <th>3</th>\n",
       "      <td>1998</td>\n",
       "      <td>California</td>\n",
       "      <td>Restaurant</td>\n",
       "      <td>Scombroid toxin</td>\n",
       "      <td>4</td>\n",
       "      <td>0.0</td>\n",
       "      <td>0.0</td>\n",
       "    </tr>\n",
       "    <tr>\n",
       "      <th>4</th>\n",
       "      <td>1998</td>\n",
       "      <td>California</td>\n",
       "      <td>Private Home/Residence</td>\n",
       "      <td>Salmonella enterica</td>\n",
       "      <td>26</td>\n",
       "      <td>3.0</td>\n",
       "      <td>0.0</td>\n",
       "    </tr>\n",
       "  </tbody>\n",
       "</table>\n",
       "</div>"
      ],
      "text/plain": [
       "   Year       State                Location              Species  Illnesses  \\\n",
       "0  1998  California              Restaurant                  NaN         20   \n",
       "1  1998  California                     NaN                  NaN        112   \n",
       "2  1998  California              Restaurant                  NaN         35   \n",
       "3  1998  California              Restaurant      Scombroid toxin          4   \n",
       "4  1998  California  Private Home/Residence  Salmonella enterica         26   \n",
       "\n",
       "   Hospitalizations  Fatalities  \n",
       "0               0.0         0.0  \n",
       "1               0.0         0.0  \n",
       "2               0.0         0.0  \n",
       "3               0.0         0.0  \n",
       "4               3.0         0.0  "
      ]
     },
     "execution_count": 74,
     "metadata": {},
     "output_type": "execute_result"
    }
   ],
   "source": [
    "data.head()"
   ]
  },
  {
   "cell_type": "code",
   "execution_count": 75,
   "metadata": {},
   "outputs": [],
   "source": [
    "# Q.1 Outbreak Trend"
   ]
  },
  {
   "cell_type": "code",
   "execution_count": 76,
   "metadata": {},
   "outputs": [],
   "source": [
    "X = data[\"Year\"]\n",
    "y = data[\"Illnesses\"]"
   ]
  },
  {
   "cell_type": "code",
   "execution_count": 77,
   "metadata": {},
   "outputs": [],
   "source": [
    "X = data[\"Year\"].values.reshape(-1, 1)\n"
   ]
  },
  {
   "cell_type": "code",
   "execution_count": 78,
   "metadata": {},
   "outputs": [
    {
     "data": {
      "image/png": "[encoded data removed]",
      "text/plain": [
       "<Figure size 640x480 with 1 Axes>"
      ]
     },
     "metadata": {},
     "output_type": "display_data"
    }
   ],
   "source": [
    "\n",
    "yearly_data = data.groupby(\"Year\")[\"Illnesses\"].sum()\n",
    "\n",
    "plt.plot(yearly_data.index, yearly_data.values, marker='o', color='blue', label='Total Illnesses')\n",
    "plt.title(\"Total Foodborne Illnesses Over the Years\")\n",
    "plt.xlabel(\"Year\")\n",
    "plt.ylabel(\"Total Illnesses\")\n",
    "plt.grid(True)\n",
    "plt.legend()\n",
    "plt.show()\n"
   ]
  },
  {
   "cell_type": "code",
   "execution_count": 100,
   "metadata": {},
   "outputs": [],
   "source": [
    "from sklearn.model_selection import train_test_split\n",
    "from sklearn.linear_model import LinearRegression\n",
    "from sklearn.metrics import classification_report,r2_score"
   ]
  },
  {
   "cell_type": "code",
   "execution_count": 102,
   "metadata": {},
   "outputs": [
    {
     "name": "stdout",
     "output_type": "stream",
     "text": [
      "0.00015839206648571302\n"
     ]
    }
   ],
   "source": [
    "X_train,X_test,y_train,y_test = train_test_split(X,y,test_size=0.2,random_state=42)\n",
    "model = LinearRegression()\n",
    "model.fit(X_train,y_train)\n",
    "\n",
    "y_pred = model.predict(X_test)\n",
    "\n",
    "print(r2_score(y_test,y_pred))\n",
    "\n",
    "# Not Worth Linear Regression"
   ]
  },
  {
   "cell_type": "code",
   "execution_count": 79,
   "metadata": {},
   "outputs": [],
   "source": [
    "# Q.2 Contaminant Responsible"
   ]
  },
  {
   "cell_type": "code",
   "execution_count": 80,
   "metadata": {},
   "outputs": [],
   "source": [
    "data['Hospitalizations'] = data['Hospitalizations'].fillna(0)\n",
    "data['Fatalities'] = data['Fatalities'].fillna(0)\n",
    "data['Location'] = data['Location'].fillna(\"Unspecified\")\n",
    "data['Species'] = data['Species'].fillna(\"Unspecified\")\n"
   ]
  },
  {
   "cell_type": "code",
   "execution_count": 81,
   "metadata": {},
   "outputs": [
    {
     "data": {
      "text/plain": [
       "Year                0\n",
       "State               0\n",
       "Location            0\n",
       "Species             0\n",
       "Illnesses           0\n",
       "Hospitalizations    0\n",
       "Fatalities          0\n",
       "dtype: int64"
      ]
     },
     "execution_count": 81,
     "metadata": {},
     "output_type": "execute_result"
    }
   ],
   "source": [
    "data.isna().sum()"
   ]
  },
  {
   "cell_type": "code",
   "execution_count": 82,
   "metadata": {},
   "outputs": [
    {
     "data": {
      "text/plain": [
       "(                         Illnesses  Hospitalizations  Fatalities\n",
       " Species                                                         \n",
       " Unspecified                  77835             958.0        26.0\n",
       " Norovirus genogroup I        76406             668.0         2.0\n",
       " Salmonella enterica          60018            6888.0        82.0\n",
       " Norovirus genogroup II       38175             518.0         6.0\n",
       " Clostridium perfringens      28734             106.0        12.0,\n",
       " 'Unspecified',\n",
       " 'Salmonella enterica',\n",
       " 'Listeria monocytogenes')"
      ]
     },
     "execution_count": 82,
     "metadata": {},
     "output_type": "execute_result"
    }
   ],
   "source": [
    "contaminant_stats = (data.groupby('Species', dropna=True)[['Illnesses', 'Hospitalizations', 'Fatalities']].sum().sort_values(by='Illnesses', ascending=False))\n",
    "\n",
    "most_illnesses = contaminant_stats['Illnesses'].idxmax()\n",
    "most_hospitalizations = contaminant_stats['Hospitalizations'].idxmax()\n",
    "most_fatalities = contaminant_stats['Fatalities'].idxmax()\n",
    "\n",
    "contaminant_stats.head(), most_illnesses, most_hospitalizations, most_fatalities"
   ]
  },
  {
   "cell_type": "code",
   "execution_count": 83,
   "metadata": {},
   "outputs": [],
   "source": [
    "# Q.3 Highest Risk Location"
   ]
  },
  {
   "cell_type": "code",
   "execution_count": 84,
   "metadata": {},
   "outputs": [
    {
     "data": {
      "text/plain": [
       "'Restaurant'"
      ]
     },
     "execution_count": 84,
     "metadata": {},
     "output_type": "execute_result"
    }
   ],
   "source": [
    "\n",
    "location_stats = (data.groupby('Location', dropna=True)['Illnesses'].sum().sort_values(ascending=False))\n",
    "\n",
    "highest_risk_location = location_stats.idxmax()\n",
    "\n",
    "highest_risk_location"
   ]
  }
 ],
 "metadata": {
  "kernelspec": {
   "display_name": "Python 3",
   "language": "python",
   "name": "python3"
  },
  "language_info": {
   "codemirror_mode": {
    "name": "ipython",
    "version": 3
   },
   "file_extension": ".py",
   "mimetype": "text/x-python",
   "name": "python",
   "nbconvert_exporter": "python",
   "pygments_lexer": "ipython3",
   "version": "3.12.4"
  }
 },
 "nbformat": 4,
 "nbformat_minor": 2
}
